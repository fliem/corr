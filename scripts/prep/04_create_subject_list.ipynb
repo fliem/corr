{
 "cells": [
  {
   "cell_type": "markdown",
   "metadata": {},
   "source": [
    "This notebook creates a subject list for subjects that should be fed into baracus.\n",
    "Criteria:\n",
    "* demo info and mri\n",
    "* age >=18\n",
    "* at least one retest session >=7d\n",
    "* exclude sites with N<20\n",
    "\n",
    "The script makes corrections as som things are missing from the raw data:\n",
    "* drop subjects with retest_duration \"150-480\". (NYU1)\n",
    "* fill in retest units for IPCAS4 XHCUMS\n",
    "\n",
    "Input:\n",
    "* session_info.tsv (based on : 01_create_dl_file.py; 02_create_onestudy_bids.py; 03_collect_session_info.py ) "
   ]
  },
  {
   "cell_type": "code",
   "execution_count": 1,
   "metadata": {
    "collapsed": true
   },
   "outputs": [],
   "source": [
    "import pandas as pd\n",
    "import os\n",
    "from os.path import join as opj\n",
    "root_dir = \"/Users/franzliem/Dropbox/baracorrus_data/data\"\n",
    "out_dir = \"/Users/franzliem/Dropbox/baracorrus_data/results\""
   ]
  },
  {
   "cell_type": "markdown",
   "metadata": {},
   "source": [
    "# get session info from session_info.tsv (derived from bids subject folders)"
   ]
  },
  {
   "cell_type": "code",
   "execution_count": 2,
   "metadata": {},
   "outputs": [
    {
     "name": "stdout",
     "output_type": "stream",
     "text": [
      "participant_id                     0\n",
      "preceding_condition             3267\n",
      "resting_state_instruction       3121\n",
      "retest_design                   2913\n",
      "retest_duration                 1510\n",
      "retest_units                    1582\n",
      "session_id                         0\n",
      "site                               0\n",
      "visual_stimulation_condition    3041\n",
      "session_kind                       0\n",
      "dtype: int64\n"
     ]
    },
    {
     "data": {
      "text/html": [
       "<div>\n",
       "<style>\n",
       "    .dataframe thead tr:only-child th {\n",
       "        text-align: right;\n",
       "    }\n",
       "\n",
       "    .dataframe thead th {\n",
       "        text-align: left;\n",
       "    }\n",
       "\n",
       "    .dataframe tbody tr th {\n",
       "        vertical-align: top;\n",
       "    }\n",
       "</style>\n",
       "<table border=\"1\" class=\"dataframe\">\n",
       "  <thead>\n",
       "    <tr style=\"text-align: right;\">\n",
       "      <th></th>\n",
       "      <th>participant_id</th>\n",
       "      <th>preceding_condition</th>\n",
       "      <th>resting_state_instruction</th>\n",
       "      <th>retest_design</th>\n",
       "      <th>retest_duration</th>\n",
       "      <th>retest_units</th>\n",
       "      <th>session_id</th>\n",
       "      <th>site</th>\n",
       "      <th>visual_stimulation_condition</th>\n",
       "      <th>session_kind</th>\n",
       "    </tr>\n",
       "  </thead>\n",
       "  <tbody>\n",
       "    <tr>\n",
       "      <th>0</th>\n",
       "      <td>BMB1x0003001</td>\n",
       "      <td>NaN</td>\n",
       "      <td>NaN</td>\n",
       "      <td>NaN</td>\n",
       "      <td>NaN</td>\n",
       "      <td>NaN</td>\n",
       "      <td>ses-1</td>\n",
       "      <td>BMB1</td>\n",
       "      <td>NaN</td>\n",
       "      <td>test</td>\n",
       "    </tr>\n",
       "    <tr>\n",
       "      <th>1</th>\n",
       "      <td>BMB1x0003001</td>\n",
       "      <td>NaN</td>\n",
       "      <td>NaN</td>\n",
       "      <td>NaN</td>\n",
       "      <td>10.0</td>\n",
       "      <td>minutes</td>\n",
       "      <td>ses-2</td>\n",
       "      <td>BMB1</td>\n",
       "      <td>NaN</td>\n",
       "      <td>retest</td>\n",
       "    </tr>\n",
       "    <tr>\n",
       "      <th>2</th>\n",
       "      <td>BMB1x0003002</td>\n",
       "      <td>NaN</td>\n",
       "      <td>NaN</td>\n",
       "      <td>NaN</td>\n",
       "      <td>NaN</td>\n",
       "      <td>NaN</td>\n",
       "      <td>ses-1</td>\n",
       "      <td>BMB1</td>\n",
       "      <td>NaN</td>\n",
       "      <td>test</td>\n",
       "    </tr>\n",
       "    <tr>\n",
       "      <th>3</th>\n",
       "      <td>BMB1x0003002</td>\n",
       "      <td>NaN</td>\n",
       "      <td>NaN</td>\n",
       "      <td>NaN</td>\n",
       "      <td>10.0</td>\n",
       "      <td>minutes</td>\n",
       "      <td>ses-2</td>\n",
       "      <td>BMB1</td>\n",
       "      <td>NaN</td>\n",
       "      <td>retest</td>\n",
       "    </tr>\n",
       "    <tr>\n",
       "      <th>4</th>\n",
       "      <td>BMB1x0003004</td>\n",
       "      <td>NaN</td>\n",
       "      <td>NaN</td>\n",
       "      <td>NaN</td>\n",
       "      <td>NaN</td>\n",
       "      <td>NaN</td>\n",
       "      <td>ses-1</td>\n",
       "      <td>BMB1</td>\n",
       "      <td>NaN</td>\n",
       "      <td>test</td>\n",
       "    </tr>\n",
       "  </tbody>\n",
       "</table>\n",
       "</div>"
      ],
      "text/plain": [
       "  participant_id preceding_condition resting_state_instruction retest_design  \\\n",
       "0   BMB1x0003001                 NaN                       NaN           NaN   \n",
       "1   BMB1x0003001                 NaN                       NaN           NaN   \n",
       "2   BMB1x0003002                 NaN                       NaN           NaN   \n",
       "3   BMB1x0003002                 NaN                       NaN           NaN   \n",
       "4   BMB1x0003004                 NaN                       NaN           NaN   \n",
       "\n",
       "  retest_duration retest_units session_id  site visual_stimulation_condition  \\\n",
       "0             NaN          NaN      ses-1  BMB1                          NaN   \n",
       "1            10.0      minutes      ses-2  BMB1                          NaN   \n",
       "2             NaN          NaN      ses-1  BMB1                          NaN   \n",
       "3            10.0      minutes      ses-2  BMB1                          NaN   \n",
       "4             NaN          NaN      ses-1  BMB1                          NaN   \n",
       "\n",
       "  session_kind  \n",
       "0         test  \n",
       "1       retest  \n",
       "2         test  \n",
       "3       retest  \n",
       "4         test  "
      ]
     },
     "execution_count": 2,
     "metadata": {},
     "output_type": "execute_result"
    }
   ],
   "source": [
    "df_sessions = pd.read_csv(opj(root_dir, \"from_1000fc\", \"session_info.tsv\"), sep=\"\\t\", na_values=\"n/a\")\n",
    "df_sessions[\"session_kind\"] = \"retest\"\n",
    "df_sessions.loc[df_sessions.session_id==\"ses-1\", \"session_kind\"] = \"test\"\n",
    "df_sessions = df_sessions[df_sessions.retest_duration != \"150-480\"]\n",
    "\n",
    "# drop and take from corr pheno file:\n",
    "df_sessions.drop(labels=[ \"sex\", \"age_at_scan_1\", \"handedness\"], axis=1, inplace=True)\n",
    "print(df_sessions.isnull().sum())\n",
    "\n",
    "\n",
    "df_sessions.head()"
   ]
  },
  {
   "cell_type": "code",
   "execution_count": 3,
   "metadata": {
    "collapsed": true
   },
   "outputs": [],
   "source": [
    "df_test = df_sessions[df_sessions.session_kind==\"test\"].copy()\n",
    "df_test.drop(labels=[\"retest_duration\", \"retest_units\"], axis=1, inplace=True)"
   ]
  },
  {
   "cell_type": "code",
   "execution_count": 4,
   "metadata": {},
   "outputs": [
    {
     "data": {
      "text/plain": [
       "participant_id                     0\n",
       "preceding_condition             2062\n",
       "resting_state_instruction       2638\n",
       "retest_design                   2425\n",
       "retest_duration                    0\n",
       "retest_units                       0\n",
       "session_id                         0\n",
       "site                               0\n",
       "visual_stimulation_condition    2558\n",
       "session_kind                       0\n",
       "dtype: int64"
      ]
     },
     "execution_count": 4,
     "metadata": {},
     "output_type": "execute_result"
    }
   ],
   "source": [
    "# fill in or drop missing retest units info\n",
    "df_retest = df_sessions[df_sessions.session_kind==\"retest\"].copy()\n",
    "\n",
    "# some retest unist are missing and were derived from Table 1 of the Zuo paper\n",
    "df_retest.loc[df_retest[\"site\"]==\"IPCAS4\", [\"retest_units\"]] = \"minutes\"\n",
    "df_retest.loc[df_retest[\"site\"]==\"XHCUMS\", [\"retest_units\"]] = \"days\"\n",
    "df_retest.replace({\"retest_units\":{\"w\":\"weeks\"}}, inplace=True)\n",
    "df_retest = df_retest.dropna(subset=[\"retest_duration\"])\n",
    "df_retest.isnull().sum()"
   ]
  },
  {
   "cell_type": "code",
   "execution_count": 5,
   "metadata": {},
   "outputs": [
    {
     "data": {
      "text/html": [
       "<div>\n",
       "<style>\n",
       "    .dataframe thead tr:only-child th {\n",
       "        text-align: right;\n",
       "    }\n",
       "\n",
       "    .dataframe thead th {\n",
       "        text-align: left;\n",
       "    }\n",
       "\n",
       "    .dataframe tbody tr th {\n",
       "        vertical-align: top;\n",
       "    }\n",
       "</style>\n",
       "<table border=\"1\" class=\"dataframe\">\n",
       "  <thead>\n",
       "    <tr style=\"text-align: right;\">\n",
       "      <th></th>\n",
       "      <th>participant_id</th>\n",
       "      <th>preceding_condition</th>\n",
       "      <th>resting_state_instruction</th>\n",
       "      <th>retest_design</th>\n",
       "      <th>session_id</th>\n",
       "      <th>site</th>\n",
       "      <th>visual_stimulation_condition</th>\n",
       "      <th>session_kind</th>\n",
       "      <th>retest_duration_days</th>\n",
       "    </tr>\n",
       "  </thead>\n",
       "  <tbody>\n",
       "    <tr>\n",
       "      <th>1</th>\n",
       "      <td>BMB1x0003001</td>\n",
       "      <td>NaN</td>\n",
       "      <td>NaN</td>\n",
       "      <td>NaN</td>\n",
       "      <td>ses-2</td>\n",
       "      <td>BMB1</td>\n",
       "      <td>NaN</td>\n",
       "      <td>retest</td>\n",
       "      <td>0.006944</td>\n",
       "    </tr>\n",
       "    <tr>\n",
       "      <th>3</th>\n",
       "      <td>BMB1x0003002</td>\n",
       "      <td>NaN</td>\n",
       "      <td>NaN</td>\n",
       "      <td>NaN</td>\n",
       "      <td>ses-2</td>\n",
       "      <td>BMB1</td>\n",
       "      <td>NaN</td>\n",
       "      <td>retest</td>\n",
       "      <td>0.006944</td>\n",
       "    </tr>\n",
       "    <tr>\n",
       "      <th>5</th>\n",
       "      <td>BMB1x0003004</td>\n",
       "      <td>NaN</td>\n",
       "      <td>NaN</td>\n",
       "      <td>NaN</td>\n",
       "      <td>ses-2</td>\n",
       "      <td>BMB1</td>\n",
       "      <td>NaN</td>\n",
       "      <td>retest</td>\n",
       "      <td>0.006944</td>\n",
       "    </tr>\n",
       "    <tr>\n",
       "      <th>7</th>\n",
       "      <td>BMB1x0003006</td>\n",
       "      <td>NaN</td>\n",
       "      <td>NaN</td>\n",
       "      <td>NaN</td>\n",
       "      <td>ses-2</td>\n",
       "      <td>BMB1</td>\n",
       "      <td>NaN</td>\n",
       "      <td>retest</td>\n",
       "      <td>0.006944</td>\n",
       "    </tr>\n",
       "    <tr>\n",
       "      <th>9</th>\n",
       "      <td>BMB1x0003007</td>\n",
       "      <td>NaN</td>\n",
       "      <td>NaN</td>\n",
       "      <td>NaN</td>\n",
       "      <td>ses-2</td>\n",
       "      <td>BMB1</td>\n",
       "      <td>NaN</td>\n",
       "      <td>retest</td>\n",
       "      <td>0.006944</td>\n",
       "    </tr>\n",
       "  </tbody>\n",
       "</table>\n",
       "</div>"
      ],
      "text/plain": [
       "  participant_id preceding_condition resting_state_instruction retest_design  \\\n",
       "1   BMB1x0003001                 NaN                       NaN           NaN   \n",
       "3   BMB1x0003002                 NaN                       NaN           NaN   \n",
       "5   BMB1x0003004                 NaN                       NaN           NaN   \n",
       "7   BMB1x0003006                 NaN                       NaN           NaN   \n",
       "9   BMB1x0003007                 NaN                       NaN           NaN   \n",
       "\n",
       "  session_id  site visual_stimulation_condition session_kind  \\\n",
       "1      ses-2  BMB1                          NaN       retest   \n",
       "3      ses-2  BMB1                          NaN       retest   \n",
       "5      ses-2  BMB1                          NaN       retest   \n",
       "7      ses-2  BMB1                          NaN       retest   \n",
       "9      ses-2  BMB1                          NaN       retest   \n",
       "\n",
       "   retest_duration_days  \n",
       "1              0.006944  \n",
       "3              0.006944  \n",
       "5              0.006944  \n",
       "7              0.006944  \n",
       "9              0.006944  "
      ]
     },
     "execution_count": 5,
     "metadata": {},
     "output_type": "execute_result"
    }
   ],
   "source": [
    "# convert retest duration into days\n",
    "def convert_into_days(duration, unit):\n",
    "    if unit == \"minutes\":\n",
    "        f = 1./(24*60)\n",
    "    elif unit == \"days\":\n",
    "        f = 1\n",
    "    elif unit == \"weeks\":\n",
    "        f = 7\n",
    "    elif pd.isnull(unit):\n",
    "        f = pd.np.nan\n",
    "    else:\n",
    "        raise Exception(\"Unknown unit {}\".format(unit))\n",
    "    return float(duration)*f\n",
    "\n",
    "df_retest['retest_duration_days'] = \\\n",
    " df_retest.apply(lambda row: convert_into_days(row[\"retest_duration\"], row[\"retest_units\"]), axis=1)\n",
    "df_retest.drop(labels=[\"retest_duration\", \"retest_units\"], axis=1, inplace=True)\n",
    "df_retest.head()"
   ]
  },
  {
   "cell_type": "markdown",
   "metadata": {},
   "source": [
    "# get pheno data (age, sex) from corr.csv"
   ]
  },
  {
   "cell_type": "code",
   "execution_count": 6,
   "metadata": {},
   "outputs": [],
   "source": [
    "df_pheno = pd.read_csv(opj(root_dir, \"from_corr\", \"corr.csv\"), na_values=[\"#\", \"NoPhenotypicData\"], dtype={\"SUBID\":str})\n",
    "df_pheno.columns = [c.lower() for c in df_pheno.columns]\n",
    "df_pheno.site = df_pheno.site.str.replace(\"_\", \"\")\n",
    "df_pheno.dropna(subset=[\"subid\"], inplace=True)\n",
    "df_pheno[\"subid_orig\"] = df_pheno[\"subid\"]\n",
    "df_pheno[\"subid\"] = df_pheno[\"subid_orig\"].str.rjust(7, \"0\") #df_pheno[\"subid_orig\"].map(\"{:010}\".format)\n",
    "df_pheno[\"participant_id\"] = df_pheno[\"site\"] + \"x\" + df_pheno[\"subid\"] \n",
    "\n",
    "demos = df_pheno[[\"participant_id\", \"sex\", \"age_at_scan_1\", \"handedness\"]].copy()\n",
    "demos.drop_duplicates(subset=[\"participant_id\"], inplace=True)\n",
    "demos.dropna(subset=[\"age_at_scan_1\"], inplace=True)\n",
    "demos.head()\n",
    "demos.to_clipboard()\n",
    "\n",
    "#print(\"age info from {} subjects\".format(demos.shape[0]))"
   ]
  },
  {
   "cell_type": "code",
   "execution_count": 7,
   "metadata": {},
   "outputs": [
    {
     "name": "stdout",
     "output_type": "stream",
     "text": [
      "(3939, 12)\n"
     ]
    },
    {
     "data": {
      "text/html": [
       "<div>\n",
       "<style>\n",
       "    .dataframe thead tr:only-child th {\n",
       "        text-align: right;\n",
       "    }\n",
       "\n",
       "    .dataframe thead th {\n",
       "        text-align: left;\n",
       "    }\n",
       "\n",
       "    .dataframe tbody tr th {\n",
       "        vertical-align: top;\n",
       "    }\n",
       "</style>\n",
       "<table border=\"1\" class=\"dataframe\">\n",
       "  <thead>\n",
       "    <tr style=\"text-align: right;\">\n",
       "      <th></th>\n",
       "      <th>participant_id</th>\n",
       "      <th>preceding_condition</th>\n",
       "      <th>resting_state_instruction</th>\n",
       "      <th>retest_design</th>\n",
       "      <th>retest_duration_days</th>\n",
       "      <th>session_id</th>\n",
       "      <th>session_kind</th>\n",
       "      <th>site</th>\n",
       "      <th>visual_stimulation_condition</th>\n",
       "      <th>sex</th>\n",
       "      <th>age_at_scan_1</th>\n",
       "      <th>handedness</th>\n",
       "    </tr>\n",
       "  </thead>\n",
       "  <tbody>\n",
       "    <tr>\n",
       "      <th>0</th>\n",
       "      <td>BMB1x0003001</td>\n",
       "      <td>NaN</td>\n",
       "      <td>NaN</td>\n",
       "      <td>NaN</td>\n",
       "      <td>NaN</td>\n",
       "      <td>ses-1</td>\n",
       "      <td>test</td>\n",
       "      <td>BMB1</td>\n",
       "      <td>NaN</td>\n",
       "      <td>2.0</td>\n",
       "      <td>25.13</td>\n",
       "      <td>R</td>\n",
       "    </tr>\n",
       "    <tr>\n",
       "      <th>1</th>\n",
       "      <td>BMB1x0003001</td>\n",
       "      <td>NaN</td>\n",
       "      <td>NaN</td>\n",
       "      <td>NaN</td>\n",
       "      <td>0.006944</td>\n",
       "      <td>ses-2</td>\n",
       "      <td>retest</td>\n",
       "      <td>BMB1</td>\n",
       "      <td>NaN</td>\n",
       "      <td>2.0</td>\n",
       "      <td>25.13</td>\n",
       "      <td>R</td>\n",
       "    </tr>\n",
       "    <tr>\n",
       "      <th>2</th>\n",
       "      <td>BMB1x0003002</td>\n",
       "      <td>NaN</td>\n",
       "      <td>NaN</td>\n",
       "      <td>NaN</td>\n",
       "      <td>NaN</td>\n",
       "      <td>ses-1</td>\n",
       "      <td>test</td>\n",
       "      <td>BMB1</td>\n",
       "      <td>NaN</td>\n",
       "      <td>1.0</td>\n",
       "      <td>23.96</td>\n",
       "      <td>R</td>\n",
       "    </tr>\n",
       "    <tr>\n",
       "      <th>3</th>\n",
       "      <td>BMB1x0003002</td>\n",
       "      <td>NaN</td>\n",
       "      <td>NaN</td>\n",
       "      <td>NaN</td>\n",
       "      <td>0.006944</td>\n",
       "      <td>ses-2</td>\n",
       "      <td>retest</td>\n",
       "      <td>BMB1</td>\n",
       "      <td>NaN</td>\n",
       "      <td>1.0</td>\n",
       "      <td>23.96</td>\n",
       "      <td>R</td>\n",
       "    </tr>\n",
       "    <tr>\n",
       "      <th>4</th>\n",
       "      <td>BMB1x0003004</td>\n",
       "      <td>NaN</td>\n",
       "      <td>NaN</td>\n",
       "      <td>NaN</td>\n",
       "      <td>NaN</td>\n",
       "      <td>ses-1</td>\n",
       "      <td>test</td>\n",
       "      <td>BMB1</td>\n",
       "      <td>NaN</td>\n",
       "      <td>2.0</td>\n",
       "      <td>31.15</td>\n",
       "      <td>R</td>\n",
       "    </tr>\n",
       "  </tbody>\n",
       "</table>\n",
       "</div>"
      ],
      "text/plain": [
       "  participant_id preceding_condition resting_state_instruction retest_design  \\\n",
       "0   BMB1x0003001                 NaN                       NaN           NaN   \n",
       "1   BMB1x0003001                 NaN                       NaN           NaN   \n",
       "2   BMB1x0003002                 NaN                       NaN           NaN   \n",
       "3   BMB1x0003002                 NaN                       NaN           NaN   \n",
       "4   BMB1x0003004                 NaN                       NaN           NaN   \n",
       "\n",
       "   retest_duration_days session_id session_kind  site  \\\n",
       "0                   NaN      ses-1         test  BMB1   \n",
       "1              0.006944      ses-2       retest  BMB1   \n",
       "2                   NaN      ses-1         test  BMB1   \n",
       "3              0.006944      ses-2       retest  BMB1   \n",
       "4                   NaN      ses-1         test  BMB1   \n",
       "\n",
       "  visual_stimulation_condition  sex  age_at_scan_1 handedness  \n",
       "0                          NaN  2.0          25.13          R  \n",
       "1                          NaN  2.0          25.13          R  \n",
       "2                          NaN  1.0          23.96          R  \n",
       "3                          NaN  1.0          23.96          R  \n",
       "4                          NaN  2.0          31.15          R  "
      ]
     },
     "execution_count": 7,
     "metadata": {},
     "output_type": "execute_result"
    }
   ],
   "source": [
    "df = pd.concat((df_test, df_retest))\n",
    "df.sort_values(by=[\"participant_id\", \"session_id\"], inplace=True)\n",
    "df = pd.merge(df, demos, how=\"inner\", on=[\"participant_id\"])\n",
    "df.to_clipboard()\n",
    "print(df.shape)\n",
    "df.head()"
   ]
  },
  {
   "cell_type": "markdown",
   "metadata": {},
   "source": [
    "# filter interesting subjects"
   ]
  },
  {
   "cell_type": "markdown",
   "metadata": {},
   "source": [
    "* demo info and mri \n",
    "* age >=18\n",
    "* at least one retest session >=7d\n",
    "* exclude sites with N<20"
   ]
  },
  {
   "cell_type": "code",
   "execution_count": 8,
   "metadata": {
    "collapsed": true,
    "inputHidden": false,
    "outputHidden": false
   },
   "outputs": [],
   "source": [
    "subjects = df.loc[((df.age_at_scan_1 >=18) & (df.retest_duration_days>=7)), \"participant_id\"].unique()"
   ]
  },
  {
   "cell_type": "code",
   "execution_count": 9,
   "metadata": {},
   "outputs": [
    {
     "data": {
      "text/plain": [
       "679"
      ]
     },
     "execution_count": 9,
     "metadata": {},
     "output_type": "execute_result"
    }
   ],
   "source": [
    "len(subjects)"
   ]
  },
  {
   "cell_type": "code",
   "execution_count": 10,
   "metadata": {},
   "outputs": [
    {
     "name": "stdout",
     "output_type": "stream",
     "text": [
      "Drop the following site bc they have less than 20 subjects: Index(['SWU1', 'Utah2'], dtype='object', name='site')\n",
      "site\n",
      "SWU1      6\n",
      "Utah2    10\n",
      "Name: participant_id, dtype: int64\n"
     ]
    }
   ],
   "source": [
    "df_baracus = df[df.participant_id.isin(subjects)].copy()\n",
    "N = df_baracus.groupby(\"site\").count()[\"participant_id\"]\n",
    "\n",
    "drop_sites_N = N[N<20]\n",
    "drop_sites = drop_sites_N.index\n",
    "print(\"Drop the following site bc they have less than 20 subjects: {}\".format(drop_sites))\n",
    "print(drop_sites_N)\n",
    "\n",
    "df_baracus = df_baracus[~df_baracus.site.isin(drop_sites)]"
   ]
  },
  {
   "cell_type": "code",
   "execution_count": 11,
   "metadata": {},
   "outputs": [
    {
     "name": "stdout",
     "output_type": "stream",
     "text": [
      "677\n",
      "subects written to /Users/franzliem/Dropbox/baracorrus_data/results/prepare/baracus_subjects.txt\n"
     ]
    }
   ],
   "source": [
    "baracus_subjects = df_baracus.participant_id.unique().tolist()\n",
    "print(len(baracus_subjects))\n",
    "\n",
    "prepare_dir = opj(out_dir, \"prepare\")\n",
    "if not os.path.isdir(prepare_dir):\n",
    "    os.makedirs(prepare_dir)\n",
    "out_file = opj(prepare_dir, \"baracus_subjects.txt\")\n",
    "with open(out_file, \"w\") as fi:\n",
    "    fi.write(\"\\n\".join(baracus_subjects))\n",
    "print(\"subects written to {}\".format(out_file))"
   ]
  },
  {
   "cell_type": "code",
   "execution_count": 12,
   "metadata": {},
   "outputs": [
    {
     "data": {
      "text/plain": [
       "site\n",
       "BNU1       57\n",
       "BNU2       61\n",
       "HNU1       30\n",
       "IACAS      28\n",
       "IPCAS1     29\n",
       "IPCAS8     13\n",
       "LMU3       25\n",
       "NYU2       31\n",
       "SWU4      232\n",
       "UM         80\n",
       "UPSM1      26\n",
       "UWM        25\n",
       "Utah1      16\n",
       "XHCUMS     24\n",
       "Name: participant_id, dtype: int64"
      ]
     },
     "execution_count": 12,
     "metadata": {},
     "output_type": "execute_result"
    }
   ],
   "source": [
    "df_ = df_baracus[[\"participant_id\", \"site\"]].copy()\n",
    "df_.drop_duplicates(inplace=True)\n",
    "N = df_.groupby(\"site\").count()[\"participant_id\"]\n",
    "N"
   ]
  },
  {
   "cell_type": "code",
   "execution_count": null,
   "metadata": {},
   "outputs": [],
   "source": []
  },
  {
   "cell_type": "code",
   "execution_count": null,
   "metadata": {
    "collapsed": true
   },
   "outputs": [],
   "source": []
  }
 ],
 "metadata": {
  "anaconda-cloud": {},
  "kernel_info": {
   "name": "python3"
  },
  "kernelspec": {
   "display_name": "Python [default]",
   "language": "python",
   "name": "python3"
  },
  "language_info": {
   "codemirror_mode": {
    "name": "ipython",
    "version": 3
   },
   "file_extension": ".py",
   "mimetype": "text/x-python",
   "name": "python",
   "nbconvert_exporter": "python",
   "pygments_lexer": "ipython3",
   "version": "3.5.2"
  }
 },
 "nbformat": 4,
 "nbformat_minor": 1
}
